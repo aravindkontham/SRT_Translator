{
 "cells": [
  {
   "cell_type": "code",
   "execution_count": 2,
   "id": "dfe871bc-a9ef-4942-8ac3-c5c3e2ca1c3d",
   "metadata": {},
   "outputs": [],
   "source": [
    "from googletrans import Translator\n",
    "\n",
    "translator = Translator()"
   ]
  },
  {
   "cell_type": "code",
   "execution_count": 3,
   "id": "50eb1c95-64e4-4b89-9505-d7dabf54a293",
   "metadata": {},
   "outputs": [
    {
     "name": "stdout",
     "output_type": "stream",
     "text": [
      "/opt/conda/bin/python\n"
     ]
    }
   ],
   "source": [
    "import sys\n",
    "print(sys.executable)"
   ]
  },
  {
   "cell_type": "code",
   "execution_count": 4,
   "id": "021b94b7-868a-437b-a002-594eaf45d0a6",
   "metadata": {},
   "outputs": [
    {
     "name": "stdout",
     "output_type": "stream",
     "text": [
      "హలో, మీరు ఎలా ఉన్నారు?నేను తెలంగాణ నుండి అరవింద్\n"
     ]
    }
   ],
   "source": [
    "# Translate text from English to French\n",
    "translation = translator.translate(\"Hello, how are you? I'm Arvind from Telangana\", dest=\"te\")\n",
    "\n",
    "print(translation.text)  # Output: \"Bonjour comment vas-tu?\""
   ]
  },
  {
   "cell_type": "code",
   "execution_count": 14,
   "id": "edd3a375-52cd-413a-81a3-2adc6238a37e",
   "metadata": {},
   "outputs": [
    {
     "name": "stdout",
     "output_type": "stream",
     "text": [
      "అతను తన నిర్ణయం తీసుకున్నాడు.అతను దానిని ప్రకటించబోతున్నాడు.\n"
     ]
    }
   ],
   "source": [
    "translation = translator.translate(\"He's made his decision. He's going to announce it.\", dest=\"te\")\n",
    "\n",
    "print(translation.text) "
   ]
  },
  {
   "cell_type": "code",
   "execution_count": 6,
   "id": "669a0cc3-b78e-4b5d-bb33-878f55238137",
   "metadata": {},
   "outputs": [
    {
     "name": "stdout",
     "output_type": "stream",
     "text": [
      "I am doing a project on the Docker\n"
     ]
    }
   ],
   "source": [
    "translation = translator.translate(\"నేను డాకర్‌లో ఒక ప్రాజెక్ట్ చేస్తున్నాను\", dest=\"en\")\n",
    "\n",
    "print(translation.text) "
   ]
  },
  {
   "cell_type": "code",
   "execution_count": null,
   "id": "8da5c937-1e84-4538-b0d5-8e5975acd939",
   "metadata": {},
   "outputs": [],
   "source": []
  }
 ],
 "metadata": {
  "kernelspec": {
   "display_name": "Python 3 (ipykernel)",
   "language": "python",
   "name": "python3"
  },
  "language_info": {
   "codemirror_mode": {
    "name": "ipython",
    "version": 3
   },
   "file_extension": ".py",
   "mimetype": "text/x-python",
   "name": "python",
   "nbconvert_exporter": "python",
   "pygments_lexer": "ipython3",
   "version": "3.11.6"
  }
 },
 "nbformat": 4,
 "nbformat_minor": 5
}
