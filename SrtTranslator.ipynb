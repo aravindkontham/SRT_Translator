{
 "cells": [
  {
   "cell_type": "code",
   "execution_count": 1,
   "id": "f708c71e-ff9b-46bb-a8f8-79ba2469e113",
   "metadata": {},
   "outputs": [
    {
     "name": "stderr",
     "output_type": "stream",
     "text": [
      "2024-03-31 10:50:39.743942: I tensorflow/core/util/port.cc:111] oneDNN custom operations are on. You may see slightly different numerical results due to floating-point round-off errors from different computation orders. To turn them off, set the environment variable `TF_ENABLE_ONEDNN_OPTS=0`.\n",
      "2024-03-31 10:50:39.934704: I tensorflow/tsl/cuda/cudart_stub.cc:28] Could not find cuda drivers on your machine, GPU will not be used.\n",
      "2024-03-31 10:50:40.928390: E tensorflow/compiler/xla/stream_executor/cuda/cuda_dnn.cc:9342] Unable to register cuDNN factory: Attempting to register factory for plugin cuDNN when one has already been registered\n",
      "2024-03-31 10:50:40.928458: E tensorflow/compiler/xla/stream_executor/cuda/cuda_fft.cc:609] Unable to register cuFFT factory: Attempting to register factory for plugin cuFFT when one has already been registered\n",
      "2024-03-31 10:50:40.933870: E tensorflow/compiler/xla/stream_executor/cuda/cuda_blas.cc:1518] Unable to register cuBLAS factory: Attempting to register factory for plugin cuBLAS when one has already been registered\n",
      "2024-03-31 10:50:41.549712: I tensorflow/tsl/cuda/cudart_stub.cc:28] Could not find cuda drivers on your machine, GPU will not be used.\n",
      "2024-03-31 10:50:41.564640: I tensorflow/core/platform/cpu_feature_guard.cc:182] This TensorFlow binary is optimized to use available CPU instructions in performance-critical operations.\n",
      "To enable the following instructions: AVX2 AVX512F AVX512_VNNI FMA, in other operations, rebuild TensorFlow with the appropriate compiler flags.\n",
      "2024-03-31 10:50:45.720557: W tensorflow/compiler/tf2tensorrt/utils/py_utils.cc:38] TF-TRT Warning: Could not find TensorRT\n"
     ]
    }
   ],
   "source": [
    "from transformers import pipeline"
   ]
  },
  {
   "cell_type": "code",
   "execution_count": 2,
   "id": "df1d69bf-a183-4917-800e-86c9442cb2e4",
   "metadata": {},
   "outputs": [
    {
     "name": "stderr",
     "output_type": "stream",
     "text": [
      "All model checkpoint layers were used when initializing TFT5ForConditionalGeneration.\n",
      "\n",
      "All the layers of TFT5ForConditionalGeneration were initialized from the model checkpoint at t5-base.\n",
      "If your task is similar to the task the model of the checkpoint was trained on, you can already use TFT5ForConditionalGeneration for predictions without further training.\n"
     ]
    },
    {
     "data": {
      "application/vnd.jupyter.widget-view+json": {
       "model_id": "2af3f5011d0a461fbd3349f7e957a8aa",
       "version_major": 2,
       "version_minor": 0
      },
      "text/plain": [
       "spiece.model:   0%|          | 0.00/792k [00:00<?, ?B/s]"
      ]
     },
     "metadata": {},
     "output_type": "display_data"
    },
    {
     "data": {
      "application/vnd.jupyter.widget-view+json": {
       "model_id": "2c16daf052c148c2a0167aef401c9565",
       "version_major": 2,
       "version_minor": 0
      },
      "text/plain": [
       "tokenizer.json:   0%|          | 0.00/1.39M [00:00<?, ?B/s]"
      ]
     },
     "metadata": {},
     "output_type": "display_data"
    }
   ],
   "source": [
    "translator = pipeline(\"translation_en_to_fr\", model=\"t5-base\", revision=\"686f1db\")"
   ]
  },
  {
   "cell_type": "code",
   "execution_count": 5,
   "id": "a45d3d81-bd5d-4871-85be-495fce5455ac",
   "metadata": {},
   "outputs": [],
   "source": [
    "out=translator(\"my name is Aravind and i'm a fighter\")\n"
   ]
  },
  {
   "cell_type": "code",
   "execution_count": 6,
   "id": "11fa6c88-4715-4de4-a59e-a4f2cd2f9e4b",
   "metadata": {},
   "outputs": [
    {
     "data": {
      "text/plain": [
       "'mon nom est Aravind et je suis un combattant'"
      ]
     },
     "execution_count": 6,
     "metadata": {},
     "output_type": "execute_result"
    }
   ],
   "source": [
    "out[0]['translation_text']"
   ]
  },
  {
   "cell_type": "code",
   "execution_count": 17,
   "id": "326816f0-4c31-47c3-97b6-a81f0dfa5dab",
   "metadata": {},
   "outputs": [
    {
     "name": "stdout",
     "output_type": "stream",
     "text": [
      "- N'y a toujours rien? - Pas de signe.\n",
      "- Combien de temps a-t-il passé? - Près de deux heures.\n"
     ]
    }
   ],
   "source": [
    "import pysrt\n",
    "subs=pysrt.open(\"Captions_eng.srt\")\n",
    "for sub in subs[4:6]:\n",
    "    fr_text=translator(sub.text)[0]['translation_text']\n",
    "    print(fr_text)\n",
    "    sub.text=fr_text\n",
    "subs.save(\"Captions_french.srt\")"
   ]
  },
  {
   "cell_type": "code",
   "execution_count": null,
   "id": "33d400da-b0bf-43d5-9ce8-9efbe4fb5847",
   "metadata": {},
   "outputs": [],
   "source": []
  }
 ],
 "metadata": {
  "kernelspec": {
   "display_name": "Python 3 (ipykernel)",
   "language": "python",
   "name": "python3"
  },
  "language_info": {
   "codemirror_mode": {
    "name": "ipython",
    "version": 3
   },
   "file_extension": ".py",
   "mimetype": "text/x-python",
   "name": "python",
   "nbconvert_exporter": "python",
   "pygments_lexer": "ipython3",
   "version": "3.11.6"
  }
 },
 "nbformat": 4,
 "nbformat_minor": 5
}
